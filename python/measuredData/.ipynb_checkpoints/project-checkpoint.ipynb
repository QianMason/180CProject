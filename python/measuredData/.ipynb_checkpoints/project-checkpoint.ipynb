{
 "cells": [
  {
   "cell_type": "code",
   "execution_count": 1,
   "metadata": {},
   "outputs": [],
   "source": [
    "class Node:\n",
    "    def __init__(self, next=None, prev=None, cylinder=None):\n",
    "        self.next = next\n",
    "        self.prev = prev\n",
    "        self.cylinder = cylinder\n",
    "\n",
    "def create_list(fname, schedule):\n",
    "    with open(fname, 'r') as file:\n",
    "        for line in file:\n",
    "            schedule.append(int(line))\n",
    "\n",
    "def insert_and_get_idx(schedule, val):\n",
    "    idx = 0\n",
    "    #base case where insert into first element\n",
    "    if schedule[0] > val:\n",
    "        schedule.insert(0, val)\n",
    "        return idx\n",
    "\n",
    "    for i in range(len(schedule)):\n",
    "        if schedule[i] > val:\n",
    "            schedule.insert(i, val)\n",
    "            return i\n",
    "\n",
    "    schedule.append(val)\n",
    "    return (len(schedule) - 1)\n"
   ]
  },
  {
   "cell_type": "code",
   "execution_count": 2,
   "metadata": {},
   "outputs": [],
   "source": [
    "def FCFS(schedule, start):\n",
    "    total = abs(start - schedule[0])\n",
    "    #idx = insert_and_get_idx(schedule, start)\n",
    "    idx = 0\n",
    "    with open(\"fcfsPY.csv\", \"w\") as file:\n",
    "        while idx + 1 < len(schedule):\n",
    "            file.write(str(schedule[idx]))\n",
    "            file.write(\",\")\n",
    "            total = total + abs(schedule[idx] - schedule[idx + 1])\n",
    "            idx = idx + 1\n",
    "        file.write(str(schedule[idx]))\n",
    "    file.close()\n",
    "    return total"
   ]
  },
  {
   "cell_type": "code",
   "execution_count": 3,
   "metadata": {},
   "outputs": [],
   "source": [
    "#shortest seek time first\n",
    "def SSTF(schedule, start):\n",
    "    idx = insert_and_get_idx(schedule, start)\n",
    "    total = 0\n",
    "    with open(\"sstfPY.csv\", \"w\") as file:\n",
    "        while len(schedule) > 0:\n",
    "            if len(schedule) == 1: #case where there is only one element left\n",
    "                file.write(str(schedule[0]))\n",
    "                file.close()\n",
    "                del schedule[0]\n",
    "                return total\n",
    "            elif idx + 1 == len(schedule): #case where we have hit the far right\n",
    "                file.write(str(schedule[idx]))\n",
    "                file.write(\",\")\n",
    "                total = total + abs(schedule[idx] - schedule[idx - 1])\n",
    "                del schedule[idx]\n",
    "                idx = idx - 1\n",
    "            elif idx - 1 < 0: #\n",
    "                file.write(str(schedule[idx]))\n",
    "                file.write(\",\")\n",
    "                total = total + abs(schedule[idx] - schedule[idx + 1])\n",
    "                del schedule[idx]\n",
    "            else:\n",
    "                #case right is bigger and elems on both side of idx\n",
    "                if abs(schedule[idx] - schedule[idx + 1]) <= abs(schedule[idx] - schedule[idx - 1]):\n",
    "                    file.write(str(schedule[idx]))\n",
    "                    file.write(\",\")\n",
    "                    total = total + abs(schedule[idx] - schedule[idx + 1])\n",
    "                    del schedule[idx]\n",
    "                else:\n",
    "                    file.write(str(schedule[idx]))\n",
    "                    file.write(\",\")\n",
    "                    total = total + abs(schedule[idx] - schedule[idx - 1])\n",
    "                    del schedule[idx]\n",
    "                    idx = idx - 1\n",
    "\n",
    "    return total"
   ]
  },
  {
   "cell_type": "code",
   "execution_count": 4,
   "metadata": {},
   "outputs": [],
   "source": [
    "#go towards closest end from start and bounce back\n",
    "def SCAN(schedule, start, num_cylinder):\n",
    "    idx = insert_and_get_idx(schedule, start)\n",
    "    total = 0\n",
    "    with open(\"scanPY.csv\", \"w\") as file:\n",
    "        #start closer to left end so go left\n",
    "        if (abs(0 - schedule[idx]) <= abs(schedule[len(schedule) - 1] - schedule[idx])):\n",
    "            insert_and_get_idx(schedule, 0)\n",
    "            idx = idx + 1\n",
    "            while len(schedule) > 0:\n",
    "                if len(schedule) == 1:\n",
    "                    file.write(str(schedule[0]))\n",
    "                    del schedule[0]\n",
    "                elif idx - 1 < 0:\n",
    "                    file.write(str(schedule[idx]))\n",
    "                    file.write(\",\")\n",
    "                    total = total + abs(schedule[idx] - schedule[idx + 1])\n",
    "                    del schedule[idx]\n",
    "                else:\n",
    "                    file.write(str(schedule[idx]))\n",
    "                    file.write(\",\")\n",
    "                    total = total + abs(schedule[idx] - schedule[idx - 1])\n",
    "                    del schedule[idx]\n",
    "                    idx = idx - 1\n",
    "        else:\n",
    "            #start is closer to right so insert sentinel value at end\n",
    "            insert_and_get_idx(schedule, num_cylinder - 1)\n",
    "            while len(schedule) > 0:\n",
    "                if len(schedule) == 1:\n",
    "                    file.write(str(schedule[0]))\n",
    "                    del schedule[0]\n",
    "                elif idx + 1 == len(schedule):\n",
    "                    file.write(str(schedule[idx]))\n",
    "                    file.write(\",\")\n",
    "                    total = total + abs(schedule[idx] - schedule[idx - 1])\n",
    "                    del schedule[idx]\n",
    "                    idx = idx - 1\n",
    "                else:\n",
    "                    file.write(str(schedule[idx]))\n",
    "                    file.write(\",\")\n",
    "                    total = total + abs(schedule[idx] - schedule[idx + 1])\n",
    "                    del schedule[idx]\n",
    "\n",
    "    file.close()\n",
    "    return total\n"
   ]
  },
  {
   "cell_type": "code",
   "execution_count": 5,
   "metadata": {},
   "outputs": [],
   "source": [
    "#bounded version of SCAN (doesn't go to end 0 or end possible cylinder)\n",
    "def LOOK(schedule, start):\n",
    "    idx = insert_and_get_idx(schedule, start)\n",
    "    total = 0\n",
    "    with open(\"lookPY.csv\", \"w\") as file:\n",
    "        if (abs(schedule[0] - schedule[idx]) <= abs(schedule[len(schedule) - 1] - schedule[idx])):\n",
    "            while len(schedule) > 0:\n",
    "                if len(schedule) == 1:\n",
    "                    file.write(str(schedule[0]))\n",
    "                    del schedule[0]\n",
    "                elif idx - 1 < 0:\n",
    "                    file.write(str(schedule[idx]))\n",
    "                    file.write(\",\")\n",
    "                    total = total + abs(schedule[idx] - schedule[idx + 1])\n",
    "                    del schedule[idx]\n",
    "                else:\n",
    "                    file.write(str(schedule[idx]))\n",
    "                    file.write(\",\")\n",
    "                    total = total + abs(schedule[idx] - schedule[idx - 1])\n",
    "                    del schedule[idx]\n",
    "                    idx = idx - 1\n",
    "        else:\n",
    "            while len(schedule) > 0:\n",
    "                if len(schedule) == 1:\n",
    "                    file.write(str(schedule[0]))\n",
    "                    del schedule[0]\n",
    "                elif idx + 1 == len(schedule):\n",
    "                    file.write(str(schedule[idx]))\n",
    "                    file.write(\",\")\n",
    "                    total = total + abs(schedule[idx] - schedule[idx - 1])\n",
    "                    del schedule[idx]\n",
    "                    idx = idx - 1\n",
    "                else:\n",
    "                    file.write(str(schedule[idx]))\n",
    "                    file.write(\",\")\n",
    "                    total = total + abs(schedule[idx] - schedule[idx + 1])\n",
    "                    del schedule[idx]\n",
    "\n",
    "    file.close()\n",
    "    return total"
   ]
  },
  {
   "cell_type": "code",
   "execution_count": 6,
   "metadata": {},
   "outputs": [],
   "source": [
    "def CSCAN(schedule, start, num_cylinder):\n",
    "    idx = insert_and_get_idx(schedule, start)\n",
    "    total = 0\n",
    "    end = num_cylinder - 1\n",
    "    with open(\"cscanPY.csv\", \"w\") as file:\n",
    "        #default circle left\n",
    "        if (abs(0 - schedule[idx]) <= abs(schedule[len(schedule) - 1] - schedule[idx])):\n",
    "            insert_and_get_idx(schedule, num_cylinder - 1)\n",
    "            while len(schedule) > 0:\n",
    "                if len(schedule) == 1:\n",
    "                    file.write(str(schedule[0]))\n",
    "                    del schedule[0]\n",
    "                elif idx - 1 < 0:\n",
    "                    file.write(str(schedule[idx]))\n",
    "                    file.write(\",\")\n",
    "                    total = total + schedule[idx]\n",
    "                    del schedule[idx]\n",
    "                    idx = len(schedule) - 1\n",
    "                else:\n",
    "                    file.write(str(schedule[idx]))\n",
    "                    file.write(\",\")\n",
    "                    total = total + abs(schedule[idx] - schedule[idx - 1])\n",
    "                    del schedule[idx]\n",
    "                    idx = idx - 1\n",
    "        else:\n",
    "            #default circle right\n",
    "            insert_and_get_idx(schedule, 0)\n",
    "            while len(schedule) > 0:\n",
    "                if len(schedule) == 1:\n",
    "                    file.write(str(schedule[0]))\n",
    "                    del schedule[0]\n",
    "                elif idx + 1 == len(schedule):\n",
    "                    file.write(str(schedule[idx]))\n",
    "                    file.write(\",\")\n",
    "                    total = total + abs(end - total)\n",
    "                    del schedule[idx]\n",
    "                    idx = 0\n",
    "                else:\n",
    "                    file.write(str(schedule[idx]))\n",
    "                    file.write(\",\")\n",
    "                    total = total + abs(schedule[idx] - schedule[idx + 1])\n",
    "                    del schedule[idx]\n",
    "\n",
    "    file.close()\n",
    "    return total"
   ]
  },
  {
   "cell_type": "code",
   "execution_count": 7,
   "metadata": {},
   "outputs": [],
   "source": [
    "#circulur version of scan, directionality determined by initial closest end to start\n",
    "\n",
    "\n",
    "#bounded circular version of SCAN\n",
    "def CLOOK(schedule, start, num_cylinder):\n",
    "    idx = insert_and_get_idx(schedule, start)\n",
    "    total = 0\n",
    "    end = num_cylinder - 1\n",
    "    with open(\"clookPY.csv\", \"w\") as file:\n",
    "        #default circle left\n",
    "        if (abs(schedule[0] - schedule[idx]) <= abs(schedule[len(schedule) - 1] - schedule[idx])):\n",
    "            while len(schedule) > 0:\n",
    "                if len(schedule) == 1:\n",
    "                    file.write(str(schedule[0]))\n",
    "                    del schedule[0]\n",
    "                elif idx - 1 < 0:\n",
    "                    file.write(str(schedule[idx]))\n",
    "                    file.write(\",\")\n",
    "                    del schedule[idx]\n",
    "                    idx = len(schedule) - 1\n",
    "                else:\n",
    "                    file.write(str(schedule[idx]))\n",
    "                    file.write(\",\")\n",
    "                    total = total + abs(schedule[idx] - schedule[idx - 1])\n",
    "                    del schedule[idx]\n",
    "                    idx = idx - 1\n",
    "        else:\n",
    "            #default circle right\n",
    "            while len(schedule) > 0:\n",
    "                if len(schedule) == 1:\n",
    "                    file.write(str(schedule[0]))\n",
    "                    del schedule[0]\n",
    "                elif idx + 1 == len(schedule):\n",
    "                    file.write(str(schedule[idx]))\n",
    "                    file.write(\",\")\n",
    "                    del schedule[idx]\n",
    "                    idx = 0\n",
    "                else:\n",
    "                    file.write(str(schedule[idx]))\n",
    "                    file.write(\",\")\n",
    "                    total = total + abs(schedule[idx] - schedule[idx + 1])\n",
    "                    del schedule[idx]\n",
    "\n",
    "    file.close()\n",
    "    return total"
   ]
  },
  {
   "cell_type": "code",
   "execution_count": 9,
   "metadata": {},
   "outputs": [
    {
     "name": "stdout",
     "output_type": "stream",
     "text": [
      "Please enter 1 for user interactive mode or 2 for batch mode or any other for default mode:\n",
      "2\n",
      "Enter total cylinders: 200\n",
      "Enter starting position of disk head: 100\n",
      "Enter size of list: 25\n",
      "Please enter name of file: multiCluster.txt\n",
      "Disk Queue =\n",
      "[79, 130, 17, 46, 41, 9, 85, 47, 88, 118, 132, 85, 79, 127, 12, 15, 85, 57, 79, 121, 44, 10, 41, 13, 57]\n"
     ]
    }
   ],
   "source": [
    "\n",
    "schedule = []\n",
    "visit = []\n",
    "mode = input(\"Please enter 1 for user interactive mode or 2 for batch mode or any other for default mode:\\n\")\n",
    "if mode != \"1\" and mode != \"2\":\n",
    "    schedule = [98, 183, 37, 122, 14, 124, 65, 67]\n",
    "    num_cylinder = 200\n",
    "    start = 53\n",
    "\n",
    "else:\n",
    "    num_cylinder = int(input(\"Enter total cylinders: \"))\n",
    "    start = int(input(\"Enter starting position of disk head: \"))\n",
    "    size = int(input(\"Enter size of list: \"))\n",
    "    if mode == \"1\":\n",
    "        #create list in either interactive mode or batch mode\n",
    "        print(\"Enter the cylinder values:\\n\")\n",
    "        for i in range(size):\n",
    "            position = int(input())\n",
    "            schedule.append(position)\n",
    "    elif mode == \"2\":\n",
    "        create_list(input(\"Please enter name of file: \"), schedule)\n",
    "\n",
    "\n",
    "print(\"Disk Queue =\")\n",
    "print(schedule)\n",
    "\n"
   ]
  },
  {
   "cell_type": "code",
   "execution_count": 10,
   "metadata": {},
   "outputs": [
    {
     "name": "stdout",
     "output_type": "stream",
     "text": [
      "enter name of outfilemultiClusterRun\n"
     ]
    }
   ],
   "source": [
    "outfile = open(input(\"enter name of outfile\"), \"w\")    "
   ]
  },
  {
   "cell_type": "code",
   "execution_count": 11,
   "metadata": {},
   "outputs": [
    {
     "name": "stdout",
     "output_type": "stream",
     "text": [
      "First Come First Serve Algorithm\n",
      "FCFS = 1045\n"
     ]
    },
    {
     "data": {
      "text/plain": [
       "12"
      ]
     },
     "execution_count": 11,
     "metadata": {},
     "output_type": "execute_result"
    }
   ],
   "source": [
    "#FCFS\n",
    "fcfsList = schedule.copy()\n",
    "fcfsSum = FCFS(fcfsList, start)\n",
    "print(\"First Come First Serve Algorithm\")\n",
    "print(\"FCFS =\", fcfsSum)\n",
    "outfile.write(\"FCSF = \" + str(fcfsSum) + \"\\n\")\n",
    "\n",
    "    "
   ]
  },
  {
   "cell_type": "code",
   "execution_count": 13,
   "metadata": {},
   "outputs": [
    {
     "data": {
      "image/png": "[encoded data removed]",
      "text/plain": [
       "<Figure size 432x288 with 1 Axes>"
      ]
     },
     "metadata": {},
     "output_type": "display_data"
    }
   ],
   "source": [
    "import matplotlib.pyplot as plt\n",
    "import numpy as np\n",
    "\n",
    "\n",
    "\n",
    "with open(\"fcfsPY.csv\") as inf:\n",
    "        list1= [int(i) for i in inf.read().split(',')]\n",
    "\n",
    "l=len(list1)    \n",
    "list2 = []\n",
    "for i in range(l):\n",
    "    list2.append(i)\n",
    "    \n",
    "plt.rcParams['xtick.bottom'] = plt.rcParams['xtick.labelbottom'] = False\n",
    "plt.rcParams['xtick.top'] = plt.rcParams['xtick.labeltop'] = True\n",
    "ax=plt.gca()\n",
    "ax.invert_yaxis()\n",
    "plt.xticks(np.arange(0, max(list1)+1, 10))\n",
    "plt.yticks(np.arange(0, max(list1)+1, 10))\n",
    "plt.plot(list1,list2,'r-',list1,list2,'bo')\n",
    "plt.title(\"FCFS\", y=-0.01)\n",
    "plt.show()\n"
   ]
  },
  {
   "cell_type": "code",
   "execution_count": 14,
   "metadata": {},
   "outputs": [
    {
     "name": "stdout",
     "output_type": "stream",
     "text": [
      "Shortest Seek Time First Algorithm\n",
      "SSTF = 214\n"
     ]
    },
    {
     "data": {
      "text/plain": [
       "11"
      ]
     },
     "execution_count": 14,
     "metadata": {},
     "output_type": "execute_result"
    }
   ],
   "source": [
    "#SSTF\n",
    "sstfList = schedule.copy()\n",
    "sstfList.sort()\n",
    "sstfSum = SSTF(sstfList, start)\n",
    "print(\"Shortest Seek Time First Algorithm\")\n",
    "print(\"SSTF =\", sstfSum)\n",
    "outfile.write(\"SSTF = \" + str(sstfSum) + \"\\n\")\n",
    "\n",
    "    "
   ]
  },
  {
   "cell_type": "code",
   "execution_count": 15,
   "metadata": {},
   "outputs": [
    {
     "data": {
      "image/png": "[encoded data removed]",
      "text/plain": [
       "<Figure size 432x288 with 1 Axes>"
      ]
     },
     "metadata": {},
     "output_type": "display_data"
    }
   ],
   "source": [
    "with open(\"sstfPY.csv\") as inf:\n",
    "        list1= [int(i) for i in inf.read().split(',')]\n",
    "\n",
    "l=len(list1)    \n",
    "list2 = []\n",
    "for i in range(l):\n",
    "    list2.append(i)\n",
    "plt.rcParams['xtick.bottom'] = plt.rcParams['xtick.labelbottom'] = False\n",
    "plt.rcParams['xtick.top'] = plt.rcParams['xtick.labeltop'] = True\n",
    "ax=plt.gca()\n",
    "ax.invert_yaxis()\n",
    "plt.xticks(np.arange(0, max(list1)+1, 10))\n",
    "plt.yticks(np.arange(0, max(list1)+1, 10))\n",
    "plt.plot(list1,list2,'r-',list1,list2,'bo')\n",
    "plt.title(\"SSTF\", y=-0.01)\n",
    "plt.show()"
   ]
  },
  {
   "cell_type": "code",
   "execution_count": 16,
   "metadata": {},
   "outputs": [
    {
     "name": "stdout",
     "output_type": "stream",
     "text": [
      "SCAN Algorithm\n",
      "SCAN = 289\n"
     ]
    },
    {
     "data": {
      "text/plain": [
       "11"
      ]
     },
     "execution_count": 16,
     "metadata": {},
     "output_type": "execute_result"
    }
   ],
   "source": [
    "#SCAN\n",
    "scanList = schedule.copy()\n",
    "scanList.sort()\n",
    "scanSum = SCAN(scanList, start, num_cylinder)\n",
    "print(\"SCAN Algorithm\")\n",
    "print(\"SCAN =\", scanSum)\n",
    "outfile.write(\"SCAN = \" + str(scanSum) + \"\\n\")\n",
    "\n",
    "    "
   ]
  },
  {
   "cell_type": "code",
   "execution_count": 17,
   "metadata": {},
   "outputs": [
    {
     "data": {
      "image/png": "[encoded data removed]",
      "text/plain": [
       "<Figure size 432x288 with 1 Axes>"
      ]
     },
     "metadata": {},
     "output_type": "display_data"
    }
   ],
   "source": [
    "with open(\"scanPY.csv\") as inf:\n",
    "        list1= [int(i) for i in inf.read().split(',')]\n",
    "\n",
    "l=len(list1)    \n",
    "list2 = []\n",
    "for i in range(l):\n",
    "    list2.append(i)\n",
    "plt.rcParams['xtick.bottom'] = plt.rcParams['xtick.labelbottom'] = False\n",
    "plt.rcParams['xtick.top'] = plt.rcParams['xtick.labeltop'] = True\n",
    "ax=plt.gca()\n",
    "ax.invert_yaxis()\n",
    "plt.xticks(np.arange(0, max(list1)+1, 10))\n",
    "plt.yticks(np.arange(0, max(list1)+1, 10))\n",
    "plt.plot(list1,list2,'r-',list1,list2,'bo')\n",
    "plt.title(\"SCAN\", y=-0.01)\n",
    "plt.show()"
   ]
  },
  {
   "cell_type": "code",
   "execution_count": 18,
   "metadata": {},
   "outputs": [
    {
     "name": "stdout",
     "output_type": "stream",
     "text": [
      "LOOK Algorithm (bounded SCAN)\n",
      "LOOK = 155\n"
     ]
    },
    {
     "data": {
      "text/plain": [
       "11"
      ]
     },
     "execution_count": 18,
     "metadata": {},
     "output_type": "execute_result"
    }
   ],
   "source": [
    "#LOOK\n",
    "lookList = schedule.copy()\n",
    "lookList.sort()\n",
    "lookSum = LOOK(lookList, start)\n",
    "print(\"LOOK Algorithm (bounded SCAN)\")\n",
    "print(\"LOOK =\", lookSum)\n",
    "outfile.write(\"LOOK = \" + str(lookSum) + \"\\n\")\n",
    "    "
   ]
  },
  {
   "cell_type": "code",
   "execution_count": 19,
   "metadata": {},
   "outputs": [
    {
     "data": {
      "image/png": "[encoded data removed]",
      "text/plain": [
       "<Figure size 432x288 with 1 Axes>"
      ]
     },
     "metadata": {},
     "output_type": "display_data"
    }
   ],
   "source": [
    "with open(\"lookPY.csv\") as inf:\n",
    "        list1= [int(i) for i in inf.read().split(',')]\n",
    "\n",
    "l=len(list1)    \n",
    "list2 = []\n",
    "for i in range(l):\n",
    "    list2.append(i)\n",
    "plt.rcParams['xtick.bottom'] = plt.rcParams['xtick.labelbottom'] = False\n",
    "plt.rcParams['xtick.top'] = plt.rcParams['xtick.labeltop'] = True\n",
    "ax=plt.gca()\n",
    "ax.invert_yaxis()\n",
    "plt.xticks(np.arange(0, max(list1)+1, 10))\n",
    "plt.yticks(np.arange(0, max(list1)+1, 10))\n",
    "plt.plot(list1,list2,'r-',list1,list2,'bo')\n",
    "plt.title(\"LOOK\", y=-0.01)\n",
    "plt.show()"
   ]
  },
  {
   "cell_type": "code",
   "execution_count": 20,
   "metadata": {},
   "outputs": [
    {
     "name": "stdout",
     "output_type": "stream",
     "text": [
      "Circular-SCAN Algorithm\n",
      "CSCAN = 284\n"
     ]
    },
    {
     "data": {
      "text/plain": [
       "12"
      ]
     },
     "execution_count": 20,
     "metadata": {},
     "output_type": "execute_result"
    }
   ],
   "source": [
    "#CSCAN\n",
    "cscanList = schedule.copy()\n",
    "cscanList.sort()\n",
    "cscanSum = CSCAN(cscanList, start, num_cylinder)\n",
    "print(\"Circular-SCAN Algorithm\")\n",
    "print(\"CSCAN =\", cscanSum)\n",
    "outfile.write(\"CSCAN = \" + str(cscanSum) + \"\\n\")\n",
    "    "
   ]
  },
  {
   "cell_type": "code",
   "execution_count": 21,
   "metadata": {},
   "outputs": [
    {
     "data": {
      "image/png": "[encoded data removed]",
      "text/plain": [
       "<Figure size 432x288 with 1 Axes>"
      ]
     },
     "metadata": {},
     "output_type": "display_data"
    }
   ],
   "source": [
    "with open(\"cscanPY.csv\") as inf:\n",
    "        list1= [int(i) for i in inf.read().split(',')]\n",
    "\n",
    "l=len(list1)    \n",
    "list2 = []\n",
    "for i in range(l):\n",
    "    list2.append(i)\n",
    "plt.rcParams['xtick.bottom'] = plt.rcParams['xtick.labelbottom'] = False\n",
    "plt.rcParams['xtick.top'] = plt.rcParams['xtick.labeltop'] = True\n",
    "ax=plt.gca()\n",
    "ax.invert_yaxis()\n",
    "plt.xticks(np.arange(0, max(list1)+1, 10))\n",
    "plt.yticks(np.arange(0, max(list1)+1, 10))\n",
    "plt.plot(list1,list2,'r-',list1,list2,'bo')\n",
    "plt.title(\"CSCAN\", y=-0.01)\n",
    "plt.show()"
   ]
  },
  {
   "cell_type": "code",
   "execution_count": 22,
   "metadata": {},
   "outputs": [
    {
     "name": "stdout",
     "output_type": "stream",
     "text": [
      "Circular-LOOK Algorithm (bounded CSCAN)\n",
      "CLOOK = 111\n"
     ]
    },
    {
     "data": {
      "text/plain": [
       "12"
      ]
     },
     "execution_count": 22,
     "metadata": {},
     "output_type": "execute_result"
    }
   ],
   "source": [
    "#CLOOK\n",
    "clookList = schedule.copy()\n",
    "clookList.sort()\n",
    "clookSum = CLOOK(clookList, start, num_cylinder)\n",
    "print(\"Circular-LOOK Algorithm (bounded CSCAN)\")\n",
    "print(\"CLOOK =\", clookSum)\n",
    "outfile.write(\"CLOOK = \" + str(clookSum) + \"\\n\")\n",
    "\n",
    "\n"
   ]
  },
  {
   "cell_type": "code",
   "execution_count": 23,
   "metadata": {},
   "outputs": [
    {
     "data": {
      "image/png": "[encoded data removed]",
      "text/plain": [
       "<Figure size 432x288 with 1 Axes>"
      ]
     },
     "metadata": {},
     "output_type": "display_data"
    }
   ],
   "source": [
    "with open(\"clookPY.csv\") as inf:\n",
    "        list1= [int(i) for i in inf.read().split(',')]\n",
    "\n",
    "l=len(list1)    \n",
    "list2 = []\n",
    "for i in range(l):\n",
    "    list2.append(i)\n",
    "plt.rcParams['xtick.bottom'] = plt.rcParams['xtick.labelbottom'] = False\n",
    "plt.rcParams['xtick.top'] = plt.rcParams['xtick.labeltop'] = True\n",
    "ax=plt.gca()\n",
    "ax.invert_yaxis()\n",
    "plt.xticks(np.arange(0, max(list1)+1, 10))\n",
    "plt.yticks(np.arange(0, max(list1)+1, 10))\n",
    "plt.plot(list1,list2,'r-',list1,list2,'bo')\n",
    "plt.title(\"CLOOK\", y=-0.01)\n",
    "plt.show()"
   ]
  },
  {
   "cell_type": "code",
   "execution_count": 24,
   "metadata": {},
   "outputs": [],
   "source": [
    "outfile.close()"
   ]
  },
  {
   "cell_type": "code",
   "execution_count": null,
   "metadata": {},
   "outputs": [],
   "source": []
  },
  {
   "cell_type": "code",
   "execution_count": null,
   "metadata": {},
   "outputs": [],
   "source": []
  }
 ],
 "metadata": {
  "kernelspec": {
   "display_name": "Python 3",
   "language": "python",
   "name": "python3"
  },
  "language_info": {
   "codemirror_mode": {
    "name": "ipython",
    "version": 3
   },
   "file_extension": ".py",
   "mimetype": "text/x-python",
   "name": "python",
   "nbconvert_exporter": "python",
   "pygments_lexer": "ipython3",
   "version": "3.6.5"
  }
 },
 "nbformat": 4,
 "nbformat_minor": 2
}
