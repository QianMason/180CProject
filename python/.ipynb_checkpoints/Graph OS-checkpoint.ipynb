{
 "cells": [
  {
   "cell_type": "code",
   "execution_count": 1,
   "metadata": {},
   "outputs": [],
   "source": [
    "import matplotlib.pyplot as plt\n",
    "import numpy as np\n",
    "\n",
    "\n",
    "\n",
    "with open(\"fcfsPY.csv\") as inf:\n",
    "        list1= [int(i) for i in inf.read().split(',')]\n",
    "\n",
    "l=len(list1)    \n",
    "list2 = []\n",
    "for i in range(l):\n",
    "    list2.append(i)\n"
   ]
  },
  {
   "cell_type": "code",
   "execution_count": 2,
   "metadata": {},
   "outputs": [
    {
     "data": {
      "image/png": "[encoded data removed]",
      "text/plain": [
       "<Figure size 432x288 with 1 Axes>"
      ]
     },
     "metadata": {},
     "output_type": "display_data"
    }
   ],
   "source": [
    "plt.rcParams['xtick.bottom'] = plt.rcParams['xtick.labelbottom'] = False\n",
    "plt.rcParams['xtick.top'] = plt.rcParams['xtick.labeltop'] = True\n",
    "ax=plt.gca()\n",
    "ax.invert_yaxis()\n",
    "plt.xticks(np.arange(0, max(list1)+1, 10))\n",
    "plt.yticks(np.arange(0, max(list1)+1, 10))\n",
    "plt.plot(list1,list2,'r-',list1,list2,'bo')\n",
    "plt.title(\"FCFS\", loc='right')\n",
    "plt.show()"
   ]
  },
  {
   "cell_type": "code",
   "execution_count": null,
   "metadata": {},
   "outputs": [],
   "source": [
    "with open(\"sstfPY.csv\") as inf:\n",
    "        list1= [int(i) for i in inf.read().split(',')]\n",
    "\n",
    "l=len(list1)    \n",
    "list2 = []\n",
    "for i in range(l):\n",
    "    list2.append(i)\n",
    "plt.rcParams['xtick.bottom'] = plt.rcParams['xtick.labelbottom'] = False\n",
    "plt.rcParams['xtick.top'] = plt.rcParams['xtick.labeltop'] = True\n",
    "ax=plt.gca()\n",
    "ax.invert_yaxis()\n",
    "plt.xticks(np.arange(0, max(list1)+1, 10))\n",
    "plt.yticks(np.arange(0, max(list1)+1, 10))\n",
    "plt.plot(list1,list2,'r-',list1,list2,'bo')\n",
    "plt.title(\"SSTF\")\n",
    "plt.show()"
   ]
  },
  {
   "cell_type": "code",
   "execution_count": null,
   "metadata": {},
   "outputs": [],
   "source": [
    "with open(\"scanPY.csv\") as inf:\n",
    "        list1= [int(i) for i in inf.read().split(',')]\n",
    "\n",
    "l=len(list1)    \n",
    "list2 = []\n",
    "for i in range(l):\n",
    "    list2.append(i)\n",
    "plt.rcParams['xtick.bottom'] = plt.rcParams['xtick.labelbottom'] = False\n",
    "plt.rcParams['xtick.top'] = plt.rcParams['xtick.labeltop'] = True\n",
    "ax=plt.gca()\n",
    "ax.invert_yaxis()\n",
    "plt.xticks(np.arange(0, max(list1)+1, 10))\n",
    "plt.yticks(np.arange(0, max(list1)+1, 10))\n",
    "plt.plot(list1,list2,'r-',list1,list2,'bo')\n",
    "plt.title(\"SCAN\")\n",
    "plt.show()"
   ]
  },
  {
   "cell_type": "code",
   "execution_count": null,
   "metadata": {},
   "outputs": [],
   "source": [
    "with open(\"cscanPY.csv\") as inf:\n",
    "        list1= [int(i) for i in inf.read().split(',')]\n",
    "\n",
    "l=len(list1)    \n",
    "list2 = []\n",
    "for i in range(l):\n",
    "    list2.append(i)\n",
    "plt.rcParams['xtick.bottom'] = plt.rcParams['xtick.labelbottom'] = False\n",
    "plt.rcParams['xtick.top'] = plt.rcParams['xtick.labeltop'] = True\n",
    "ax=plt.gca()\n",
    "ax.invert_yaxis()\n",
    "plt.xticks(np.arange(0, max(list1)+1, 10))\n",
    "plt.yticks(np.arange(0, max(list1)+1, 10))\n",
    "plt.plot(list1,list2,'r-',list1,list2,'bo')\n",
    "plt.title(\"CSCAN\")\n",
    "plt.show()"
   ]
  },
  {
   "cell_type": "code",
   "execution_count": null,
   "metadata": {},
   "outputs": [],
   "source": [
    "with open(\"lookPY.csv\") as inf:\n",
    "        list1= [int(i) for i in inf.read().split(',')]\n",
    "\n",
    "l=len(list1)    \n",
    "list2 = []\n",
    "for i in range(l):\n",
    "    list2.append(i)\n",
    "plt.rcParams['xtick.bottom'] = plt.rcParams['xtick.labelbottom'] = False\n",
    "plt.rcParams['xtick.top'] = plt.rcParams['xtick.labeltop'] = True\n",
    "ax=plt.gca()\n",
    "ax.invert_yaxis()\n",
    "plt.xticks(np.arange(0, max(list1)+1, 10))\n",
    "plt.yticks(np.arange(0, max(list1)+1, 10))\n",
    "plt.plot(list1,list2,'r-',list1,list2,'bo')\n",
    "plt.title(\"LOOK\")\n",
    "plt.show()"
   ]
  },
  {
   "cell_type": "code",
   "execution_count": null,
   "metadata": {},
   "outputs": [],
   "source": [
    "with open(\"clookPY.csv\") as inf:\n",
    "        list1= [int(i) for i in inf.read().split(',')]\n",
    "\n",
    "l=len(list1)    \n",
    "list2 = []\n",
    "for i in range(l):\n",
    "    list2.append(i)\n",
    "plt.rcParams['xtick.bottom'] = plt.rcParams['xtick.labelbottom'] = False\n",
    "plt.rcParams['xtick.top'] = plt.rcParams['xtick.labeltop'] = True\n",
    "ax=plt.gca()\n",
    "ax.invert_yaxis()\n",
    "plt.xticks(np.arange(0, max(list1)+1, 10))\n",
    "plt.yticks(np.arange(0, max(list1)+1, 10))\n",
    "plt.plot(list1,list2,'r-',list1,list2,'bo')\n",
    "plt.title(\"CLOOK\")\n",
    "plt.show()"
   ]
  }
 ],
 "metadata": {
  "kernelspec": {
   "display_name": "Python 3",
   "language": "python",
   "name": "python3"
  },
  "language_info": {
   "codemirror_mode": {
    "name": "ipython",
    "version": 3
   },
   "file_extension": ".py",
   "mimetype": "text/x-python",
   "name": "python",
   "nbconvert_exporter": "python",
   "pygments_lexer": "ipython3",
   "version": "3.6.5"
  }
 },
 "nbformat": 4,
 "nbformat_minor": 2
}
